{
    "cells": [
        {
            "cell_type": "markdown",
            "metadata": {
                "collapsed": true
            },
            "source": "# Assignment Part 1 - Data Scraping and Transformation"
        },
        {
            "cell_type": "markdown",
            "metadata": {},
            "source": "### The assignment includes scraping unstructured data available openly on Wikipedia and transform it into Structured format with cleaning up to be used for Analysis"
        },
        {
            "cell_type": "markdown",
            "metadata": {},
            "source": "#### Define and import pre-requisites for Python - Pandas and Data Scraping using BeautifulSoup"
        },
        {
            "cell_type": "code",
            "execution_count": 1,
            "metadata": {},
            "outputs": [
                {
                    "name": "stdout",
                    "output_type": "stream",
                    "text": "Solving environment: done\n\n# All requested packages already installed.\n\nAll Libraries are imported.\n"
                }
            ],
            "source": "from bs4 import BeautifulSoup # Beautiful Soup Data scraping library\nimport numpy as np # data in a vectorized manner manipulation\nimport pandas as pd # Pandas data analsysis library\nimport requests # HTTP library\nfrom sklearn.cluster import KMeans # Data clustering algorithm\n\n\n!conda install -c conda-forge folium=0.5.0 --yes\nimport folium # map rendering library\n\nprint('All Libraries are imported.')\n"
        },
        {
            "cell_type": "markdown",
            "metadata": {},
            "source": "### Scraping Data from Open Website - Wikipedia."
        },
        {
            "cell_type": "markdown",
            "metadata": {},
            "source": "#### scrape the following Wikipedia page, https://en.wikipedia.org/wiki/List_of_postal_codes_of_Canada:_M, in order to obtain the data that is in the table of postal codes"
        },
        {
            "cell_type": "code",
            "execution_count": 2,
            "metadata": {},
            "outputs": [],
            "source": "List_url = \"https://en.wikipedia.org/wiki/List_of_postal_codes_of_Canada:_M\"\nsource = requests.get(List_url).text"
        },
        {
            "cell_type": "code",
            "execution_count": 3,
            "metadata": {},
            "outputs": [],
            "source": "soup = BeautifulSoup(source, 'xml')\ntable=soup.find('table')"
        },
        {
            "cell_type": "code",
            "execution_count": 4,
            "metadata": {},
            "outputs": [],
            "source": "column_names = ['Postalcode','Borough','Neighborhood']\ndf = pd.DataFrame(columns = column_names)\nfor tr_cell in table.find_all('tr'):\n    row_data=[]\n    for td_cell in tr_cell.find_all('td'):\n        row_data.append(td_cell.text.strip())\n    if len(row_data)==3:\n        df.loc[len(df)] = row_data"
        },
        {
            "cell_type": "markdown",
            "metadata": {},
            "source": "#### List first 4 rows from imported data"
        },
        {
            "cell_type": "code",
            "execution_count": 5,
            "metadata": {},
            "outputs": [
                {
                    "data": {
                        "text/html": "<div>\n<style scoped>\n    .dataframe tbody tr th:only-of-type {\n        vertical-align: middle;\n    }\n\n    .dataframe tbody tr th {\n        vertical-align: top;\n    }\n\n    .dataframe thead th {\n        text-align: right;\n    }\n</style>\n<table border=\"1\" class=\"dataframe\">\n  <thead>\n    <tr style=\"text-align: right;\">\n      <th></th>\n      <th>Postalcode</th>\n      <th>Borough</th>\n      <th>Neighborhood</th>\n    </tr>\n  </thead>\n  <tbody>\n    <tr>\n      <th>0</th>\n      <td>M1A</td>\n      <td>Not assigned</td>\n      <td>Not assigned</td>\n    </tr>\n    <tr>\n      <th>1</th>\n      <td>M2A</td>\n      <td>Not assigned</td>\n      <td>Not assigned</td>\n    </tr>\n    <tr>\n      <th>2</th>\n      <td>M3A</td>\n      <td>North York</td>\n      <td>Parkwoods</td>\n    </tr>\n    <tr>\n      <th>3</th>\n      <td>M4A</td>\n      <td>North York</td>\n      <td>Victoria Village</td>\n    </tr>\n  </tbody>\n</table>\n</div>",
                        "text/plain": "  Postalcode       Borough      Neighborhood\n0        M1A  Not assigned      Not assigned\n1        M2A  Not assigned      Not assigned\n2        M3A    North York         Parkwoods\n3        M4A    North York  Victoria Village"
                    },
                    "execution_count": 5,
                    "metadata": {},
                    "output_type": "execute_result"
                }
            ],
            "source": "df.head(4)"
        },
        {
            "cell_type": "markdown",
            "metadata": {},
            "source": "### Data Cleaning to remove Blank or unassigned Borough"
        },
        {
            "cell_type": "markdown",
            "metadata": {},
            "source": "#### The \"Not assigned\" values will be replaced with the Borough name in that cell from the Neighborhood column"
        },
        {
            "cell_type": "code",
            "execution_count": 6,
            "metadata": {},
            "outputs": [
                {
                    "data": {
                        "text/html": "<div>\n<style scoped>\n    .dataframe tbody tr th:only-of-type {\n        vertical-align: middle;\n    }\n\n    .dataframe tbody tr th {\n        vertical-align: top;\n    }\n\n    .dataframe thead th {\n        text-align: right;\n    }\n</style>\n<table border=\"1\" class=\"dataframe\">\n  <thead>\n    <tr style=\"text-align: right;\">\n      <th></th>\n      <th>Postalcode</th>\n      <th>Borough</th>\n      <th>Neighborhood</th>\n    </tr>\n  </thead>\n  <tbody>\n    <tr>\n      <th>2</th>\n      <td>M3A</td>\n      <td>North York</td>\n      <td>Parkwoods</td>\n    </tr>\n    <tr>\n      <th>3</th>\n      <td>M4A</td>\n      <td>North York</td>\n      <td>Victoria Village</td>\n    </tr>\n    <tr>\n      <th>4</th>\n      <td>M5A</td>\n      <td>Downtown Toronto</td>\n      <td>Harbourfront</td>\n    </tr>\n    <tr>\n      <th>5</th>\n      <td>M6A</td>\n      <td>North York</td>\n      <td>Lawrence Heights</td>\n    </tr>\n  </tbody>\n</table>\n</div>",
                        "text/plain": "  Postalcode           Borough      Neighborhood\n2        M3A        North York         Parkwoods\n3        M4A        North York  Victoria Village\n4        M5A  Downtown Toronto      Harbourfront\n5        M6A        North York  Lawrence Heights"
                    },
                    "execution_count": 6,
                    "metadata": {},
                    "output_type": "execute_result"
                }
            ],
            "source": "df=df[df['Borough']!='Not assigned']\n\ndf[df['Neighborhood']=='Not assigned']=df['Borough']\ndf.head(4)\n      "
        },
        {
            "cell_type": "code",
            "execution_count": 7,
            "metadata": {},
            "outputs": [
                {
                    "data": {
                        "text/html": "<div>\n<style scoped>\n    .dataframe tbody tr th:only-of-type {\n        vertical-align: middle;\n    }\n\n    .dataframe tbody tr th {\n        vertical-align: top;\n    }\n\n    .dataframe thead th {\n        text-align: right;\n    }\n</style>\n<table border=\"1\" class=\"dataframe\">\n  <thead>\n    <tr style=\"text-align: right;\">\n      <th></th>\n      <th>Postalcode</th>\n      <th>Borough</th>\n      <th>Neighborhood</th>\n    </tr>\n  </thead>\n  <tbody>\n    <tr>\n      <th>0</th>\n      <td>M3A</td>\n      <td>North York</td>\n      <td>Parkwoods</td>\n    </tr>\n    <tr>\n      <th>1</th>\n      <td>M4A</td>\n      <td>North York</td>\n      <td>Victoria Village</td>\n    </tr>\n    <tr>\n      <th>2</th>\n      <td>M5A</td>\n      <td>Downtown Toronto</td>\n      <td>Harbourfront</td>\n    </tr>\n    <tr>\n      <th>3</th>\n      <td>M6A</td>\n      <td>North York</td>\n      <td>Lawrence Heights, Lawrence Manor</td>\n    </tr>\n    <tr>\n      <th>5</th>\n      <td>Queen's Park</td>\n      <td>Queen's Park</td>\n      <td>Queen's Park</td>\n    </tr>\n  </tbody>\n</table>\n</div>",
                        "text/plain": "     Postalcode           Borough                      Neighborhood\n0           M3A        North York                         Parkwoods\n1           M4A        North York                  Victoria Village\n2           M5A  Downtown Toronto                      Harbourfront\n3           M6A        North York  Lawrence Heights, Lawrence Manor\n5  Queen's Park      Queen's Park                      Queen's Park"
                    },
                    "execution_count": 7,
                    "metadata": {},
                    "output_type": "execute_result"
                }
            ],
            "source": "temp_df=df.groupby('Postalcode')['Neighborhood'].apply(lambda x: \"%s\" % ', '.join(x))\ntemp_df=temp_df.reset_index(drop=False)\ntemp_df.rename(columns={'Neighborhood':'Neighborhood_joined'},inplace=True)\n\ndf_merge = pd.merge(df, temp_df, on='Postalcode')\n\ndf_merge.drop(['Neighborhood'],axis=1,inplace=True)\n\ndf_merge.drop_duplicates(inplace=True)\n\ndf_merge.rename(columns={'Neighborhood_joined':'Neighborhood'},inplace=True)\n\ndf_merge.head()"
        },
        {
            "cell_type": "markdown",
            "metadata": {},
            "source": "#### Print the number of rows of dataframe using \".shape\" option"
        },
        {
            "cell_type": "code",
            "execution_count": 8,
            "metadata": {},
            "outputs": [
                {
                    "name": "stdout",
                    "output_type": "stream",
                    "text": "The DataFrame shape is (103, 3)\n"
                }
            ],
            "source": "print('The DataFrame shape is', df_merge.shape)"
        },
        {
            "cell_type": "markdown",
            "metadata": {},
            "source": "# Assignment Part 2 - Connecting geographical co-ordinates to Postal codes"
        },
        {
            "cell_type": "markdown",
            "metadata": {},
            "source": "#### Read a csv file with Geo co-ordinates and verify the contents. This is an alternative provided than use of Geocode Package."
        },
        {
            "cell_type": "code",
            "execution_count": 9,
            "metadata": {},
            "outputs": [],
            "source": "geo_df=pd.read_csv('http://cocl.us/Geospatial_data')"
        },
        {
            "cell_type": "code",
            "execution_count": 10,
            "metadata": {},
            "outputs": [
                {
                    "data": {
                        "text/html": "<div>\n<style scoped>\n    .dataframe tbody tr th:only-of-type {\n        vertical-align: middle;\n    }\n\n    .dataframe tbody tr th {\n        vertical-align: top;\n    }\n\n    .dataframe thead th {\n        text-align: right;\n    }\n</style>\n<table border=\"1\" class=\"dataframe\">\n  <thead>\n    <tr style=\"text-align: right;\">\n      <th></th>\n      <th>Postal Code</th>\n      <th>Latitude</th>\n      <th>Longitude</th>\n    </tr>\n  </thead>\n  <tbody>\n    <tr>\n      <th>0</th>\n      <td>M1B</td>\n      <td>43.806686</td>\n      <td>-79.194353</td>\n    </tr>\n    <tr>\n      <th>1</th>\n      <td>M1C</td>\n      <td>43.784535</td>\n      <td>-79.160497</td>\n    </tr>\n    <tr>\n      <th>2</th>\n      <td>M1E</td>\n      <td>43.763573</td>\n      <td>-79.188711</td>\n    </tr>\n    <tr>\n      <th>3</th>\n      <td>M1G</td>\n      <td>43.770992</td>\n      <td>-79.216917</td>\n    </tr>\n  </tbody>\n</table>\n</div>",
                        "text/plain": "  Postal Code   Latitude  Longitude\n0         M1B  43.806686 -79.194353\n1         M1C  43.784535 -79.160497\n2         M1E  43.763573 -79.188711\n3         M1G  43.770992 -79.216917"
                    },
                    "execution_count": 10,
                    "metadata": {},
                    "output_type": "execute_result"
                }
            ],
            "source": "geo_df.head(4)"
        },
        {
            "cell_type": "markdown",
            "metadata": {},
            "source": "#### Rename the Column from above dataset to \"PostalCode\" as requested in the assignment."
        },
        {
            "cell_type": "code",
            "execution_count": 11,
            "metadata": {},
            "outputs": [],
            "source": "geo_df.rename(columns={'Postal Code':'PostalCode'},inplace=True)"
        },
        {
            "cell_type": "code",
            "execution_count": 12,
            "metadata": {},
            "outputs": [
                {
                    "data": {
                        "text/html": "<div>\n<style scoped>\n    .dataframe tbody tr th:only-of-type {\n        vertical-align: middle;\n    }\n\n    .dataframe tbody tr th {\n        vertical-align: top;\n    }\n\n    .dataframe thead th {\n        text-align: right;\n    }\n</style>\n<table border=\"1\" class=\"dataframe\">\n  <thead>\n    <tr style=\"text-align: right;\">\n      <th></th>\n      <th>PostalCode</th>\n      <th>Latitude</th>\n      <th>Longitude</th>\n    </tr>\n  </thead>\n  <tbody>\n    <tr>\n      <th>0</th>\n      <td>M1B</td>\n      <td>43.806686</td>\n      <td>-79.194353</td>\n    </tr>\n    <tr>\n      <th>1</th>\n      <td>M1C</td>\n      <td>43.784535</td>\n      <td>-79.160497</td>\n    </tr>\n    <tr>\n      <th>2</th>\n      <td>M1E</td>\n      <td>43.763573</td>\n      <td>-79.188711</td>\n    </tr>\n    <tr>\n      <th>3</th>\n      <td>M1G</td>\n      <td>43.770992</td>\n      <td>-79.216917</td>\n    </tr>\n  </tbody>\n</table>\n</div>",
                        "text/plain": "  PostalCode   Latitude  Longitude\n0        M1B  43.806686 -79.194353\n1        M1C  43.784535 -79.160497\n2        M1E  43.763573 -79.188711\n3        M1G  43.770992 -79.216917"
                    },
                    "execution_count": 12,
                    "metadata": {},
                    "output_type": "execute_result"
                }
            ],
            "source": "geo_df.head(4)"
        },
        {
            "cell_type": "markdown",
            "metadata": {},
            "source": "#### Merge two tables using column \"PostalCode\" as the common thread. Display and verify the merged contents"
        },
        {
            "cell_type": "code",
            "execution_count": 13,
            "metadata": {},
            "outputs": [],
            "source": "df_merge.rename(columns={'Postalcode':'PostalCode'},inplace=True)"
        },
        {
            "cell_type": "code",
            "execution_count": 14,
            "metadata": {},
            "outputs": [],
            "source": "postcodes_Geo_coordinates_df = df_merge.join(geo_df.set_index('PostalCode'), on='PostalCode')"
        },
        {
            "cell_type": "code",
            "execution_count": 15,
            "metadata": {
                "scrolled": true
            },
            "outputs": [
                {
                    "data": {
                        "text/html": "<div>\n<style scoped>\n    .dataframe tbody tr th:only-of-type {\n        vertical-align: middle;\n    }\n\n    .dataframe tbody tr th {\n        vertical-align: top;\n    }\n\n    .dataframe thead th {\n        text-align: right;\n    }\n</style>\n<table border=\"1\" class=\"dataframe\">\n  <thead>\n    <tr style=\"text-align: right;\">\n      <th></th>\n      <th>PostalCode</th>\n      <th>Borough</th>\n      <th>Neighborhood</th>\n      <th>Latitude</th>\n      <th>Longitude</th>\n    </tr>\n  </thead>\n  <tbody>\n    <tr>\n      <th>0</th>\n      <td>M3A</td>\n      <td>North York</td>\n      <td>Parkwoods</td>\n      <td>43.753259</td>\n      <td>-79.329656</td>\n    </tr>\n    <tr>\n      <th>1</th>\n      <td>M4A</td>\n      <td>North York</td>\n      <td>Victoria Village</td>\n      <td>43.725882</td>\n      <td>-79.315572</td>\n    </tr>\n    <tr>\n      <th>2</th>\n      <td>M5A</td>\n      <td>Downtown Toronto</td>\n      <td>Harbourfront</td>\n      <td>43.654260</td>\n      <td>-79.360636</td>\n    </tr>\n    <tr>\n      <th>3</th>\n      <td>M6A</td>\n      <td>North York</td>\n      <td>Lawrence Heights, Lawrence Manor</td>\n      <td>43.718518</td>\n      <td>-79.464763</td>\n    </tr>\n  </tbody>\n</table>\n</div>",
                        "text/plain": "  PostalCode           Borough                      Neighborhood   Latitude  \\\n0        M3A        North York                         Parkwoods  43.753259   \n1        M4A        North York                  Victoria Village  43.725882   \n2        M5A  Downtown Toronto                      Harbourfront  43.654260   \n3        M6A        North York  Lawrence Heights, Lawrence Manor  43.718518   \n\n   Longitude  \n0 -79.329656  \n1 -79.315572  \n2 -79.360636  \n3 -79.464763  "
                    },
                    "execution_count": 15,
                    "metadata": {},
                    "output_type": "execute_result"
                }
            ],
            "source": "postcodes_Geo_coordinates_df.head(4)"
        },
        {
            "cell_type": "markdown",
            "metadata": {},
            "source": "# Assignment Part 3 - Explore and Cluster neighborhoods. Generate Maps."
        },
        {
            "cell_type": "markdown",
            "metadata": {},
            "source": "### Explore and Cluster the neighborhoods in Toronto. Analyse and Report Observations. Visualise to find how the neighborhoods cluster together. Use of Four Square to Get Venues."
        },
        {
            "cell_type": "markdown",
            "metadata": {},
            "source": "### Filter the data for Neighborhood around Toronto Borough"
        },
        {
            "cell_type": "code",
            "execution_count": 16,
            "metadata": {},
            "outputs": [
                {
                    "data": {
                        "text/html": "<div>\n<style scoped>\n    .dataframe tbody tr th:only-of-type {\n        vertical-align: middle;\n    }\n\n    .dataframe tbody tr th {\n        vertical-align: top;\n    }\n\n    .dataframe thead th {\n        text-align: right;\n    }\n</style>\n<table border=\"1\" class=\"dataframe\">\n  <thead>\n    <tr style=\"text-align: right;\">\n      <th></th>\n      <th>PostalCode</th>\n      <th>Borough</th>\n      <th>Neighborhood</th>\n      <th>Latitude</th>\n      <th>Longitude</th>\n    </tr>\n  </thead>\n  <tbody>\n    <tr>\n      <th>2</th>\n      <td>M5A</td>\n      <td>Downtown Toronto</td>\n      <td>Harbourfront</td>\n      <td>43.654260</td>\n      <td>-79.360636</td>\n    </tr>\n    <tr>\n      <th>12</th>\n      <td>M5B</td>\n      <td>Downtown Toronto</td>\n      <td>Ryerson, Garden District</td>\n      <td>43.657162</td>\n      <td>-79.378937</td>\n    </tr>\n    <tr>\n      <th>26</th>\n      <td>M5C</td>\n      <td>Downtown Toronto</td>\n      <td>St. James Town</td>\n      <td>43.651494</td>\n      <td>-79.375418</td>\n    </tr>\n    <tr>\n      <th>35</th>\n      <td>M4E</td>\n      <td>East Toronto</td>\n      <td>The Beaches</td>\n      <td>43.676357</td>\n      <td>-79.293031</td>\n    </tr>\n    <tr>\n      <th>36</th>\n      <td>M5E</td>\n      <td>Downtown Toronto</td>\n      <td>Berczy Park</td>\n      <td>43.644771</td>\n      <td>-79.373306</td>\n    </tr>\n  </tbody>\n</table>\n</div>",
                        "text/plain": "   PostalCode           Borough              Neighborhood   Latitude  \\\n2         M5A  Downtown Toronto              Harbourfront  43.654260   \n12        M5B  Downtown Toronto  Ryerson, Garden District  43.657162   \n26        M5C  Downtown Toronto            St. James Town  43.651494   \n35        M4E      East Toronto               The Beaches  43.676357   \n36        M5E  Downtown Toronto               Berczy Park  43.644771   \n\n    Longitude  \n2  -79.360636  \n12 -79.378937  \n26 -79.375418  \n35 -79.293031  \n36 -79.373306  "
                    },
                    "execution_count": 16,
                    "metadata": {},
                    "output_type": "execute_result"
                }
            ],
            "source": "toronto_neb=postcodes_Geo_coordinates_df[postcodes_Geo_coordinates_df['Borough'].str.contains(\"Toronto\")]\ntoronto_neb.head()"
        },
        {
            "cell_type": "markdown",
            "metadata": {},
            "source": "### Define Four Square Credentials for connection"
        },
        {
            "cell_type": "code",
            "execution_count": 17,
            "metadata": {},
            "outputs": [
                {
                    "name": "stdout",
                    "output_type": "stream",
                    "text": "Your credentails passed with Four Square Version : 20180604\n"
                }
            ],
            "source": "CLIENT_ID = 'RBXPFBH4ZFHE2M5ANPHVYSQJPNODSYV0GWMYP3OMKPN3I1R2'\nCLIENT_SECRET = 'OC2Q1YVHIOWIKHEXYBY5TTAE4PCT4GFHBKCPDKLSQUG2RZXN'\nVERSION = '20180604'\nLIMIT = 30\nprint('Your credentails passed with Four Square Version : ' +  VERSION )"
        },
        {
            "cell_type": "code",
            "execution_count": 18,
            "metadata": {},
            "outputs": [],
            "source": "def getNearbyVenues(names, latitudes, longitudes):\n    radius=500\n    LIMIT=100\n    venues_list=[]\n    for name, lat, lng in zip(names, latitudes, longitudes):\n        print(name)\n            \n        # create the API request URL\n        url = 'https://api.foursquare.com/v2/venues/explore?&client_id={}&client_secret={}&v={}&ll={},{}&radius={}&limit={}'.format(\n            CLIENT_ID, CLIENT_SECRET, VERSION, lat, lng, radius, LIMIT)\n        \n # make the GET request\n        results = requests.get(url).json()[\"response\"]['groups'][0]['items']\n        \n        # return only relevant information for each nearby venue\n        venues_list.append([(name,lat,lng, \n            v['venue']['name'], \n            v['venue']['location']['lat'], \n            v['venue']['location']['lng'],  \n            v['venue']['categories'][0]['name']) for v in results])\n\n    nearby_venues = pd.DataFrame([item for venue_list in venues_list for item in venue_list])\n    nearby_venues.columns = ['Neighborhood', 'Neighborhood Latitude','Neighborhood Longitude', 'Venues', 'Venues Latitude','Venues Longitude', 'Venues Category']\n    \n    return(nearby_venues)"
        },
        {
            "cell_type": "code",
            "execution_count": 19,
            "metadata": {},
            "outputs": [
                {
                    "name": "stdout",
                    "output_type": "stream",
                    "text": "Harbourfront\nRyerson, Garden District\nSt. James Town\nThe Beaches\nBerczy Park\nCentral Bay Street\nChristie\nAdelaide, King, Richmond\nDovercourt Village, Dufferin\nHarbourfront East, Toronto Islands, Union Station\nLittle Portugal, Trinity\nThe Danforth West, Riverdale\nDesign Exchange, Toronto Dominion Centre\nBrockton, Exhibition Place, Parkdale Village\nThe Beaches West, India Bazaar\nCommerce Court, Victoria Hotel\nStudio District\nLawrence Park\nRoselawn\nDavisville North\nForest Hill North, Forest Hill West\nHigh Park, The Junction South\nNorth Toronto West\nThe Annex, North Midtown, Yorkville\nParkdale, Roncesvalles\nDavisville\nHarbord, University of Toronto\nRunnymede, Swansea\nMoore Park, Summerhill East\nChinatown, Grange Park, Kensington Market\nDeer Park, Forest Hill SE, Rathnelly, South Hill, Summerhill West\nCN Tower, Bathurst Quay, Island airport, Harbourfront West, King and Spadina, Railway Lands, South Niagara\nRosedale\nStn A PO Boxes 25 The Esplanade\nCabbagetown, St. James Town\nFirst Canadian Place, Underground city\nChurch and Wellesley\nBusiness Reply Mail Processing Centre 969 Eastern\n"
                },
                {
                    "data": {
                        "text/html": "<div>\n<style scoped>\n    .dataframe tbody tr th:only-of-type {\n        vertical-align: middle;\n    }\n\n    .dataframe tbody tr th {\n        vertical-align: top;\n    }\n\n    .dataframe thead th {\n        text-align: right;\n    }\n</style>\n<table border=\"1\" class=\"dataframe\">\n  <thead>\n    <tr style=\"text-align: right;\">\n      <th></th>\n      <th>Neighborhood</th>\n      <th>Neighborhood Latitude</th>\n      <th>Neighborhood Longitude</th>\n      <th>Venues</th>\n      <th>Venues Latitude</th>\n      <th>Venues Longitude</th>\n      <th>Venues Category</th>\n    </tr>\n  </thead>\n  <tbody>\n    <tr>\n      <th>0</th>\n      <td>Harbourfront</td>\n      <td>43.65426</td>\n      <td>-79.360636</td>\n      <td>Roselle Desserts</td>\n      <td>43.653447</td>\n      <td>-79.362017</td>\n      <td>Bakery</td>\n    </tr>\n    <tr>\n      <th>1</th>\n      <td>Harbourfront</td>\n      <td>43.65426</td>\n      <td>-79.360636</td>\n      <td>Tandem Coffee</td>\n      <td>43.653559</td>\n      <td>-79.361809</td>\n      <td>Coffee Shop</td>\n    </tr>\n    <tr>\n      <th>2</th>\n      <td>Harbourfront</td>\n      <td>43.65426</td>\n      <td>-79.360636</td>\n      <td>Cooper Koo Family YMCA</td>\n      <td>43.653191</td>\n      <td>-79.357947</td>\n      <td>Gym / Fitness Center</td>\n    </tr>\n    <tr>\n      <th>3</th>\n      <td>Harbourfront</td>\n      <td>43.65426</td>\n      <td>-79.360636</td>\n      <td>Body Blitz Spa East</td>\n      <td>43.654735</td>\n      <td>-79.359874</td>\n      <td>Spa</td>\n    </tr>\n  </tbody>\n</table>\n</div>",
                        "text/plain": "   Neighborhood  Neighborhood Latitude  Neighborhood Longitude  \\\n0  Harbourfront               43.65426              -79.360636   \n1  Harbourfront               43.65426              -79.360636   \n2  Harbourfront               43.65426              -79.360636   \n3  Harbourfront               43.65426              -79.360636   \n\n                   Venues  Venues Latitude  Venues Longitude  \\\n0        Roselle Desserts        43.653447        -79.362017   \n1           Tandem Coffee        43.653559        -79.361809   \n2  Cooper Koo Family YMCA        43.653191        -79.357947   \n3     Body Blitz Spa East        43.654735        -79.359874   \n\n        Venues Category  \n0                Bakery  \n1           Coffee Shop  \n2  Gym / Fitness Center  \n3                   Spa  "
                    },
                    "execution_count": 19,
                    "metadata": {},
                    "output_type": "execute_result"
                }
            ],
            "source": "trt_venues = getNearbyVenues(names=toronto_neb['Neighborhood'], latitudes=toronto_neb['Latitude'], longitudes=toronto_neb['Longitude'])\ntrt_venues.head(4)"
        },
        {
            "cell_type": "code",
            "execution_count": 20,
            "metadata": {},
            "outputs": [
                {
                    "data": {
                        "text/html": "<div>\n<style scoped>\n    .dataframe tbody tr th:only-of-type {\n        vertical-align: middle;\n    }\n\n    .dataframe tbody tr th {\n        vertical-align: top;\n    }\n\n    .dataframe thead th {\n        text-align: right;\n    }\n</style>\n<table border=\"1\" class=\"dataframe\">\n  <thead>\n    <tr style=\"text-align: right;\">\n      <th></th>\n      <th>Neighborhood Latitude</th>\n      <th>Neighborhood Longitude</th>\n      <th>Venues</th>\n      <th>Venues Latitude</th>\n      <th>Venues Longitude</th>\n      <th>Venues Category</th>\n    </tr>\n    <tr>\n      <th>Neighborhood</th>\n      <th></th>\n      <th></th>\n      <th></th>\n      <th></th>\n      <th></th>\n      <th></th>\n    </tr>\n  </thead>\n  <tbody>\n    <tr>\n      <th>Adelaide, King, Richmond</th>\n      <td>100</td>\n      <td>100</td>\n      <td>100</td>\n      <td>100</td>\n      <td>100</td>\n      <td>100</td>\n    </tr>\n    <tr>\n      <th>Berczy Park</th>\n      <td>58</td>\n      <td>58</td>\n      <td>58</td>\n      <td>58</td>\n      <td>58</td>\n      <td>58</td>\n    </tr>\n    <tr>\n      <th>Brockton, Exhibition Place, Parkdale Village</th>\n      <td>21</td>\n      <td>21</td>\n      <td>21</td>\n      <td>21</td>\n      <td>21</td>\n      <td>21</td>\n    </tr>\n    <tr>\n      <th>Business Reply Mail Processing Centre 969 Eastern</th>\n      <td>17</td>\n      <td>17</td>\n      <td>17</td>\n      <td>17</td>\n      <td>17</td>\n      <td>17</td>\n    </tr>\n    <tr>\n      <th>CN Tower, Bathurst Quay, Island airport, Harbourfront West, King and Spadina, Railway Lands, South Niagara</th>\n      <td>16</td>\n      <td>16</td>\n      <td>16</td>\n      <td>16</td>\n      <td>16</td>\n      <td>16</td>\n    </tr>\n    <tr>\n      <th>Cabbagetown, St. James Town</th>\n      <td>47</td>\n      <td>47</td>\n      <td>47</td>\n      <td>47</td>\n      <td>47</td>\n      <td>47</td>\n    </tr>\n    <tr>\n      <th>Central Bay Street</th>\n      <td>80</td>\n      <td>80</td>\n      <td>80</td>\n      <td>80</td>\n      <td>80</td>\n      <td>80</td>\n    </tr>\n    <tr>\n      <th>Chinatown, Grange Park, Kensington Market</th>\n      <td>92</td>\n      <td>92</td>\n      <td>92</td>\n      <td>92</td>\n      <td>92</td>\n      <td>92</td>\n    </tr>\n    <tr>\n      <th>Christie</th>\n      <td>17</td>\n      <td>17</td>\n      <td>17</td>\n      <td>17</td>\n      <td>17</td>\n      <td>17</td>\n    </tr>\n    <tr>\n      <th>Church and Wellesley</th>\n      <td>84</td>\n      <td>84</td>\n      <td>84</td>\n      <td>84</td>\n      <td>84</td>\n      <td>84</td>\n    </tr>\n    <tr>\n      <th>Commerce Court, Victoria Hotel</th>\n      <td>100</td>\n      <td>100</td>\n      <td>100</td>\n      <td>100</td>\n      <td>100</td>\n      <td>100</td>\n    </tr>\n    <tr>\n      <th>Davisville</th>\n      <td>34</td>\n      <td>34</td>\n      <td>34</td>\n      <td>34</td>\n      <td>34</td>\n      <td>34</td>\n    </tr>\n    <tr>\n      <th>Davisville North</th>\n      <td>8</td>\n      <td>8</td>\n      <td>8</td>\n      <td>8</td>\n      <td>8</td>\n      <td>8</td>\n    </tr>\n    <tr>\n      <th>Deer Park, Forest Hill SE, Rathnelly, South Hill, Summerhill West</th>\n      <td>16</td>\n      <td>16</td>\n      <td>16</td>\n      <td>16</td>\n      <td>16</td>\n      <td>16</td>\n    </tr>\n    <tr>\n      <th>Design Exchange, Toronto Dominion Centre</th>\n      <td>100</td>\n      <td>100</td>\n      <td>100</td>\n      <td>100</td>\n      <td>100</td>\n      <td>100</td>\n    </tr>\n    <tr>\n      <th>Dovercourt Village, Dufferin</th>\n      <td>15</td>\n      <td>15</td>\n      <td>15</td>\n      <td>15</td>\n      <td>15</td>\n      <td>15</td>\n    </tr>\n    <tr>\n      <th>First Canadian Place, Underground city</th>\n      <td>100</td>\n      <td>100</td>\n      <td>100</td>\n      <td>100</td>\n      <td>100</td>\n      <td>100</td>\n    </tr>\n    <tr>\n      <th>Forest Hill North, Forest Hill West</th>\n      <td>4</td>\n      <td>4</td>\n      <td>4</td>\n      <td>4</td>\n      <td>4</td>\n      <td>4</td>\n    </tr>\n    <tr>\n      <th>Harbord, University of Toronto</th>\n      <td>37</td>\n      <td>37</td>\n      <td>37</td>\n      <td>37</td>\n      <td>37</td>\n      <td>37</td>\n    </tr>\n    <tr>\n      <th>Harbourfront</th>\n      <td>48</td>\n      <td>48</td>\n      <td>48</td>\n      <td>48</td>\n      <td>48</td>\n      <td>48</td>\n    </tr>\n    <tr>\n      <th>Harbourfront East, Toronto Islands, Union Station</th>\n      <td>100</td>\n      <td>100</td>\n      <td>100</td>\n      <td>100</td>\n      <td>100</td>\n      <td>100</td>\n    </tr>\n    <tr>\n      <th>High Park, The Junction South</th>\n      <td>25</td>\n      <td>25</td>\n      <td>25</td>\n      <td>25</td>\n      <td>25</td>\n      <td>25</td>\n    </tr>\n    <tr>\n      <th>Lawrence Park</th>\n      <td>3</td>\n      <td>3</td>\n      <td>3</td>\n      <td>3</td>\n      <td>3</td>\n      <td>3</td>\n    </tr>\n    <tr>\n      <th>Little Portugal, Trinity</th>\n      <td>62</td>\n      <td>62</td>\n      <td>62</td>\n      <td>62</td>\n      <td>62</td>\n      <td>62</td>\n    </tr>\n    <tr>\n      <th>Moore Park, Summerhill East</th>\n      <td>4</td>\n      <td>4</td>\n      <td>4</td>\n      <td>4</td>\n      <td>4</td>\n      <td>4</td>\n    </tr>\n    <tr>\n      <th>North Toronto West</th>\n      <td>23</td>\n      <td>23</td>\n      <td>23</td>\n      <td>23</td>\n      <td>23</td>\n      <td>23</td>\n    </tr>\n    <tr>\n      <th>Parkdale, Roncesvalles</th>\n      <td>14</td>\n      <td>14</td>\n      <td>14</td>\n      <td>14</td>\n      <td>14</td>\n      <td>14</td>\n    </tr>\n    <tr>\n      <th>Rosedale</th>\n      <td>4</td>\n      <td>4</td>\n      <td>4</td>\n      <td>4</td>\n      <td>4</td>\n      <td>4</td>\n    </tr>\n    <tr>\n      <th>Roselawn</th>\n      <td>2</td>\n      <td>2</td>\n      <td>2</td>\n      <td>2</td>\n      <td>2</td>\n      <td>2</td>\n    </tr>\n    <tr>\n      <th>Runnymede, Swansea</th>\n      <td>35</td>\n      <td>35</td>\n      <td>35</td>\n      <td>35</td>\n      <td>35</td>\n      <td>35</td>\n    </tr>\n    <tr>\n      <th>Ryerson, Garden District</th>\n      <td>100</td>\n      <td>100</td>\n      <td>100</td>\n      <td>100</td>\n      <td>100</td>\n      <td>100</td>\n    </tr>\n    <tr>\n      <th>St. James Town</th>\n      <td>100</td>\n      <td>100</td>\n      <td>100</td>\n      <td>100</td>\n      <td>100</td>\n      <td>100</td>\n    </tr>\n    <tr>\n      <th>Stn A PO Boxes 25 The Esplanade</th>\n      <td>98</td>\n      <td>98</td>\n      <td>98</td>\n      <td>98</td>\n      <td>98</td>\n      <td>98</td>\n    </tr>\n    <tr>\n      <th>Studio District</th>\n      <td>37</td>\n      <td>37</td>\n      <td>37</td>\n      <td>37</td>\n      <td>37</td>\n      <td>37</td>\n    </tr>\n    <tr>\n      <th>The Annex, North Midtown, Yorkville</th>\n      <td>21</td>\n      <td>21</td>\n      <td>21</td>\n      <td>21</td>\n      <td>21</td>\n      <td>21</td>\n    </tr>\n    <tr>\n      <th>The Beaches</th>\n      <td>4</td>\n      <td>4</td>\n      <td>4</td>\n      <td>4</td>\n      <td>4</td>\n      <td>4</td>\n    </tr>\n    <tr>\n      <th>The Beaches West, India Bazaar</th>\n      <td>21</td>\n      <td>21</td>\n      <td>21</td>\n      <td>21</td>\n      <td>21</td>\n      <td>21</td>\n    </tr>\n    <tr>\n      <th>The Danforth West, Riverdale</th>\n      <td>43</td>\n      <td>43</td>\n      <td>43</td>\n      <td>43</td>\n      <td>43</td>\n      <td>43</td>\n    </tr>\n  </tbody>\n</table>\n</div>",
                        "text/plain": "                                                    Neighborhood Latitude  \\\nNeighborhood                                                                \nAdelaide, King, Richmond                                              100   \nBerczy Park                                                            58   \nBrockton, Exhibition Place, Parkdale Village                           21   \nBusiness Reply Mail Processing Centre 969 Eastern                      17   \nCN Tower, Bathurst Quay, Island airport, Harbou...                     16   \nCabbagetown, St. James Town                                            47   \nCentral Bay Street                                                     80   \nChinatown, Grange Park, Kensington Market                              92   \nChristie                                                               17   \nChurch and Wellesley                                                   84   \nCommerce Court, Victoria Hotel                                        100   \nDavisville                                                             34   \nDavisville North                                                        8   \nDeer Park, Forest Hill SE, Rathnelly, South Hil...                     16   \nDesign Exchange, Toronto Dominion Centre                              100   \nDovercourt Village, Dufferin                                           15   \nFirst Canadian Place, Underground city                                100   \nForest Hill North, Forest Hill West                                     4   \nHarbord, University of Toronto                                         37   \nHarbourfront                                                           48   \nHarbourfront East, Toronto Islands, Union Station                     100   \nHigh Park, The Junction South                                          25   \nLawrence Park                                                           3   \nLittle Portugal, Trinity                                               62   \nMoore Park, Summerhill East                                             4   \nNorth Toronto West                                                     23   \nParkdale, Roncesvalles                                                 14   \nRosedale                                                                4   \nRoselawn                                                                2   \nRunnymede, Swansea                                                     35   \nRyerson, Garden District                                              100   \nSt. James Town                                                        100   \nStn A PO Boxes 25 The Esplanade                                        98   \nStudio District                                                        37   \nThe Annex, North Midtown, Yorkville                                    21   \nThe Beaches                                                             4   \nThe Beaches West, India Bazaar                                         21   \nThe Danforth West, Riverdale                                           43   \n\n                                                    Neighborhood Longitude  \\\nNeighborhood                                                                 \nAdelaide, King, Richmond                                               100   \nBerczy Park                                                             58   \nBrockton, Exhibition Place, Parkdale Village                            21   \nBusiness Reply Mail Processing Centre 969 Eastern                       17   \nCN Tower, Bathurst Quay, Island airport, Harbou...                      16   \nCabbagetown, St. James Town                                             47   \nCentral Bay Street                                                      80   \nChinatown, Grange Park, Kensington Market                               92   \nChristie                                                                17   \nChurch and Wellesley                                                    84   \nCommerce Court, Victoria Hotel                                         100   \nDavisville                                                              34   \nDavisville North                                                         8   \nDeer Park, Forest Hill SE, Rathnelly, South Hil...                      16   \nDesign Exchange, Toronto Dominion Centre                               100   \nDovercourt Village, Dufferin                                            15   \nFirst Canadian Place, Underground city                                 100   \nForest Hill North, Forest Hill West                                      4   \nHarbord, University of Toronto                                          37   \nHarbourfront                                                            48   \nHarbourfront East, Toronto Islands, Union Station                      100   \nHigh Park, The Junction South                                           25   \nLawrence Park                                                            3   \nLittle Portugal, Trinity                                                62   \nMoore Park, Summerhill East                                              4   \nNorth Toronto West                                                      23   \nParkdale, Roncesvalles                                                  14   \nRosedale                                                                 4   \nRoselawn                                                                 2   \nRunnymede, Swansea                                                      35   \nRyerson, Garden District                                               100   \nSt. James Town                                                         100   \nStn A PO Boxes 25 The Esplanade                                         98   \nStudio District                                                         37   \nThe Annex, North Midtown, Yorkville                                     21   \nThe Beaches                                                              4   \nThe Beaches West, India Bazaar                                          21   \nThe Danforth West, Riverdale                                            43   \n\n                                                    Venues  Venues Latitude  \\\nNeighborhood                                                                  \nAdelaide, King, Richmond                               100              100   \nBerczy Park                                             58               58   \nBrockton, Exhibition Place, Parkdale Village            21               21   \nBusiness Reply Mail Processing Centre 969 Eastern       17               17   \nCN Tower, Bathurst Quay, Island airport, Harbou...      16               16   \nCabbagetown, St. James Town                             47               47   \nCentral Bay Street                                      80               80   \nChinatown, Grange Park, Kensington Market               92               92   \nChristie                                                17               17   \nChurch and Wellesley                                    84               84   \nCommerce Court, Victoria Hotel                         100              100   \nDavisville                                              34               34   \nDavisville North                                         8                8   \nDeer Park, Forest Hill SE, Rathnelly, South Hil...      16               16   \nDesign Exchange, Toronto Dominion Centre               100              100   \nDovercourt Village, Dufferin                            15               15   \nFirst Canadian Place, Underground city                 100              100   \nForest Hill North, Forest Hill West                      4                4   \nHarbord, University of Toronto                          37               37   \nHarbourfront                                            48               48   \nHarbourfront East, Toronto Islands, Union Station      100              100   \nHigh Park, The Junction South                           25               25   \nLawrence Park                                            3                3   \nLittle Portugal, Trinity                                62               62   \nMoore Park, Summerhill East                              4                4   \nNorth Toronto West                                      23               23   \nParkdale, Roncesvalles                                  14               14   \nRosedale                                                 4                4   \nRoselawn                                                 2                2   \nRunnymede, Swansea                                      35               35   \nRyerson, Garden District                               100              100   \nSt. James Town                                         100              100   \nStn A PO Boxes 25 The Esplanade                         98               98   \nStudio District                                         37               37   \nThe Annex, North Midtown, Yorkville                     21               21   \nThe Beaches                                              4                4   \nThe Beaches West, India Bazaar                          21               21   \nThe Danforth West, Riverdale                            43               43   \n\n                                                    Venues Longitude  \\\nNeighborhood                                                           \nAdelaide, King, Richmond                                         100   \nBerczy Park                                                       58   \nBrockton, Exhibition Place, Parkdale Village                      21   \nBusiness Reply Mail Processing Centre 969 Eastern                 17   \nCN Tower, Bathurst Quay, Island airport, Harbou...                16   \nCabbagetown, St. James Town                                       47   \nCentral Bay Street                                                80   \nChinatown, Grange Park, Kensington Market                         92   \nChristie                                                          17   \nChurch and Wellesley                                              84   \nCommerce Court, Victoria Hotel                                   100   \nDavisville                                                        34   \nDavisville North                                                   8   \nDeer Park, Forest Hill SE, Rathnelly, South Hil...                16   \nDesign Exchange, Toronto Dominion Centre                         100   \nDovercourt Village, Dufferin                                      15   \nFirst Canadian Place, Underground city                           100   \nForest Hill North, Forest Hill West                                4   \nHarbord, University of Toronto                                    37   \nHarbourfront                                                      48   \nHarbourfront East, Toronto Islands, Union Station                100   \nHigh Park, The Junction South                                     25   \nLawrence Park                                                      3   \nLittle Portugal, Trinity                                          62   \nMoore Park, Summerhill East                                        4   \nNorth Toronto West                                                23   \nParkdale, Roncesvalles                                            14   \nRosedale                                                           4   \nRoselawn                                                           2   \nRunnymede, Swansea                                                35   \nRyerson, Garden District                                         100   \nSt. James Town                                                   100   \nStn A PO Boxes 25 The Esplanade                                   98   \nStudio District                                                   37   \nThe Annex, North Midtown, Yorkville                               21   \nThe Beaches                                                        4   \nThe Beaches West, India Bazaar                                    21   \nThe Danforth West, Riverdale                                      43   \n\n                                                    Venues Category  \nNeighborhood                                                         \nAdelaide, King, Richmond                                        100  \nBerczy Park                                                      58  \nBrockton, Exhibition Place, Parkdale Village                     21  \nBusiness Reply Mail Processing Centre 969 Eastern                17  \nCN Tower, Bathurst Quay, Island airport, Harbou...               16  \nCabbagetown, St. James Town                                      47  \nCentral Bay Street                                               80  \nChinatown, Grange Park, Kensington Market                        92  \nChristie                                                         17  \nChurch and Wellesley                                             84  \nCommerce Court, Victoria Hotel                                  100  \nDavisville                                                       34  \nDavisville North                                                  8  \nDeer Park, Forest Hill SE, Rathnelly, South Hil...               16  \nDesign Exchange, Toronto Dominion Centre                        100  \nDovercourt Village, Dufferin                                     15  \nFirst Canadian Place, Underground city                          100  \nForest Hill North, Forest Hill West                               4  \nHarbord, University of Toronto                                   37  \nHarbourfront                                                     48  \nHarbourfront East, Toronto Islands, Union Station               100  \nHigh Park, The Junction South                                    25  \nLawrence Park                                                     3  \nLittle Portugal, Trinity                                         62  \nMoore Park, Summerhill East                                       4  \nNorth Toronto West                                               23  \nParkdale, Roncesvalles                                           14  \nRosedale                                                          4  \nRoselawn                                                          2  \nRunnymede, Swansea                                               35  \nRyerson, Garden District                                        100  \nSt. James Town                                                  100  \nStn A PO Boxes 25 The Esplanade                                  98  \nStudio District                                                  37  \nThe Annex, North Midtown, Yorkville                              21  \nThe Beaches                                                       4  \nThe Beaches West, India Bazaar                                   21  \nThe Danforth West, Riverdale                                     43  "
                    },
                    "execution_count": 20,
                    "metadata": {},
                    "output_type": "execute_result"
                }
            ],
            "source": "trt_venues.groupby('Neighborhood').count()"
        },
        {
            "cell_type": "code",
            "execution_count": 21,
            "metadata": {},
            "outputs": [],
            "source": "# one hot encoding\ntor_onehot = pd.get_dummies(trt_venues[['Venues']], prefix=\"\", prefix_sep=\"\")\n\n# add neighborhood column back to dataframe\ntor_onehot['Neighborhood'] = trt_venues['Neighborhood'] \n\n# move neighborhood column to the first column\nfixed_columns = [tor_onehot.columns[-1]] + list(tor_onehot.columns[:-1])\ntor_onehot = tor_onehot[fixed_columns]\n\ntor_grouped = tor_onehot.groupby('Neighborhood').mean().reset_index()"
        },
        {
            "cell_type": "code",
            "execution_count": 22,
            "metadata": {},
            "outputs": [
                {
                    "name": "stdout",
                    "output_type": "stream",
                    "text": "The total number of venues returned is  1690\n"
                },
                {
                    "data": {
                        "text/html": "<div>\n<style scoped>\n    .dataframe tbody tr th:only-of-type {\n        vertical-align: middle;\n    }\n\n    .dataframe tbody tr th {\n        vertical-align: top;\n    }\n\n    .dataframe thead th {\n        text-align: right;\n    }\n</style>\n<table border=\"1\" class=\"dataframe\">\n  <thead>\n    <tr style=\"text-align: right;\">\n      <th></th>\n      <th>Neighborhood</th>\n      <th>306 Yonge Street - Jordan Store</th>\n      <th>360 Restaurant</th>\n      <th>4 Life Natural Foods</th>\n      <th>401 Games</th>\n      <th>7 Numbers</th>\n      <th>7 West Cafe</th>\n      <th>7-Eleven</th>\n      <th>A &amp; C Games</th>\n      <th>A &amp; C World</th>\n      <th>...</th>\n      <th>freshii</th>\n      <th>i deal coffee</th>\n      <th>iQ Food Co</th>\n      <th>iQ Food Co. (First Canadian Place)</th>\n      <th>lululemon</th>\n      <th>lululemon athletica</th>\n      <th>nodo</th>\n      <th>souvlaki express</th>\n      <th>\u00bd oz. Cocktail Emporium</th>\n      <th>\u91d1\u57ce\u8d85\u7d1a\u5e02\u5834 Lucky Moose Food Mart</th>\n    </tr>\n  </thead>\n  <tbody>\n    <tr>\n      <th>0</th>\n      <td>Adelaide, King, Richmond</td>\n      <td>0.0</td>\n      <td>0.0</td>\n      <td>0.0</td>\n      <td>0.0</td>\n      <td>0.0</td>\n      <td>0.0</td>\n      <td>0.0</td>\n      <td>0.0</td>\n      <td>0.0</td>\n      <td>...</td>\n      <td>0.0</td>\n      <td>0.0</td>\n      <td>0.0</td>\n      <td>0.01</td>\n      <td>0.0</td>\n      <td>0.0</td>\n      <td>0.0</td>\n      <td>0.0</td>\n      <td>0.0</td>\n      <td>0.0</td>\n    </tr>\n    <tr>\n      <th>1</th>\n      <td>Berczy Park</td>\n      <td>0.0</td>\n      <td>0.0</td>\n      <td>0.0</td>\n      <td>0.0</td>\n      <td>0.0</td>\n      <td>0.0</td>\n      <td>0.0</td>\n      <td>0.0</td>\n      <td>0.0</td>\n      <td>...</td>\n      <td>0.0</td>\n      <td>0.0</td>\n      <td>0.0</td>\n      <td>0.00</td>\n      <td>0.0</td>\n      <td>0.0</td>\n      <td>0.0</td>\n      <td>0.0</td>\n      <td>0.0</td>\n      <td>0.0</td>\n    </tr>\n    <tr>\n      <th>2</th>\n      <td>Brockton, Exhibition Place, Parkdale Village</td>\n      <td>0.0</td>\n      <td>0.0</td>\n      <td>0.0</td>\n      <td>0.0</td>\n      <td>0.0</td>\n      <td>0.0</td>\n      <td>0.0</td>\n      <td>0.0</td>\n      <td>0.0</td>\n      <td>...</td>\n      <td>0.0</td>\n      <td>0.0</td>\n      <td>0.0</td>\n      <td>0.00</td>\n      <td>0.0</td>\n      <td>0.0</td>\n      <td>0.0</td>\n      <td>0.0</td>\n      <td>0.0</td>\n      <td>0.0</td>\n    </tr>\n    <tr>\n      <th>3</th>\n      <td>Business Reply Mail Processing Centre 969 Eastern</td>\n      <td>0.0</td>\n      <td>0.0</td>\n      <td>0.0</td>\n      <td>0.0</td>\n      <td>0.0</td>\n      <td>0.0</td>\n      <td>0.0</td>\n      <td>0.0</td>\n      <td>0.0</td>\n      <td>...</td>\n      <td>0.0</td>\n      <td>0.0</td>\n      <td>0.0</td>\n      <td>0.00</td>\n      <td>0.0</td>\n      <td>0.0</td>\n      <td>0.0</td>\n      <td>0.0</td>\n      <td>0.0</td>\n      <td>0.0</td>\n    </tr>\n  </tbody>\n</table>\n<p>4 rows \u00d7 1102 columns</p>\n</div>",
                        "text/plain": "                                        Neighborhood  \\\n0                           Adelaide, King, Richmond   \n1                                        Berczy Park   \n2       Brockton, Exhibition Place, Parkdale Village   \n3  Business Reply Mail Processing Centre 969 Eastern   \n\n   306 Yonge Street - Jordan Store  360 Restaurant  4 Life Natural Foods  \\\n0                              0.0             0.0                   0.0   \n1                              0.0             0.0                   0.0   \n2                              0.0             0.0                   0.0   \n3                              0.0             0.0                   0.0   \n\n   401 Games  7 Numbers  7 West Cafe  7-Eleven  A & C Games  A & C World  ...  \\\n0        0.0        0.0          0.0       0.0          0.0          0.0  ...   \n1        0.0        0.0          0.0       0.0          0.0          0.0  ...   \n2        0.0        0.0          0.0       0.0          0.0          0.0  ...   \n3        0.0        0.0          0.0       0.0          0.0          0.0  ...   \n\n   freshii  i deal coffee  iQ Food Co  iQ Food Co. (First Canadian Place)  \\\n0      0.0            0.0         0.0                                0.01   \n1      0.0            0.0         0.0                                0.00   \n2      0.0            0.0         0.0                                0.00   \n3      0.0            0.0         0.0                                0.00   \n\n   lululemon  lululemon athletica  nodo  souvlaki express  \\\n0        0.0                  0.0   0.0               0.0   \n1        0.0                  0.0   0.0               0.0   \n2        0.0                  0.0   0.0               0.0   \n3        0.0                  0.0   0.0               0.0   \n\n   \u00bd oz. Cocktail Emporium  \u91d1\u57ce\u8d85\u7d1a\u5e02\u5834 Lucky Moose Food Mart  \n0                      0.0                           0.0  \n1                      0.0                           0.0  \n2                      0.0                           0.0  \n3                      0.0                           0.0  \n\n[4 rows x 1102 columns]"
                    },
                    "execution_count": 22,
                    "metadata": {},
                    "output_type": "execute_result"
                }
            ],
            "source": "print('The total number of venues returned is ', tor_onehot.shape[0])\ntor_grouped.head(4)"
        },
        {
            "cell_type": "code",
            "execution_count": 23,
            "metadata": {},
            "outputs": [
                {
                    "name": "stdout",
                    "output_type": "stream",
                    "text": "Total Toronto Neighbourhoods: 38\n"
                }
            ],
            "source": "print('Total Toronto Neighbourhoods:', tor_grouped['Neighborhood'].shape[0])"
        },
        {
            "cell_type": "code",
            "execution_count": 30,
            "metadata": {},
            "outputs": [
                {
                    "data": {
                        "image/png": "[encoded data removed]",
                        "text/plain": "<Figure size 1080x720 with 1 Axes>"
                    },
                    "metadata": {},
                    "output_type": "display_data"
                }
            ],
            "source": "import matplotlib.pyplot as plt\n\nX = postcodes_Geo_coordinates_df[['Longitude', 'Latitude']]\n\nscatter_plot = X.plot.scatter(x='Longitude', \n               y='Latitude',  \n               fontsize = 16,\n               figsize=(15, 10))\n\nscatter_plot.set_yticklabels([])\nscatter_plot.set_xticklabels([])\nscatter_plot.set_xticks([])\nscatter_plot.set_yticks([])\nscatter_plot.spines['top'].set_color(None)\nscatter_plot.spines['right'].set_color(None)\nplt.xlabel('Longitude', fontsize=16)\nplt.ylabel('Latitude', fontsize=16)\nscatter_plot.set_title('Toronto Neighborhood Locations', fontsize=16)\n\nscatter_plot.set_yticklabels(labels = 'Latitude', fontdict={'fontsize': 20})\nplt.show()"
        },
        {
            "cell_type": "code",
            "execution_count": 31,
            "metadata": {},
            "outputs": [
                {
                    "data": {
                        "text/plain": "array([0, 0, 0, 0, 0, 0, 0, 0, 0, 0, 0, 0, 0, 0, 0, 0, 0, 3, 0, 0, 0, 0,\n       1, 0, 0, 0, 0, 0, 2, 0, 0, 0, 0, 0, 0, 0, 0, 0], dtype=int32)"
                    },
                    "execution_count": 31,
                    "metadata": {},
                    "output_type": "execute_result"
                }
            ],
            "source": "# set number of clusters\nk = 4\n\ntor_grouped_clustering = tor_grouped.drop('Neighborhood', 1)\n\n# run k-means clustering\nkmeans = KMeans(n_clusters=k, random_state=0).fit(tor_grouped_clustering)\n\n# check cluster labels generated for each row in the dataframe\nkmeans.labels_[0:38]"
        },
        {
            "cell_type": "code",
            "execution_count": 38,
            "metadata": {},
            "outputs": [],
            "source": "def return_most_common_venues(row, num_top_venues):\n    row_categories = row.iloc[1:]\n    row_categories_sorted = row_categories.sort_values(ascending=False)\n    \n    return row_categories_sorted.index.values[0:num_top_venues]"
        },
        {
            "cell_type": "code",
            "execution_count": 39,
            "metadata": {},
            "outputs": [
                {
                    "data": {
                        "text/html": "<div>\n<style scoped>\n    .dataframe tbody tr th:only-of-type {\n        vertical-align: middle;\n    }\n\n    .dataframe tbody tr th {\n        vertical-align: top;\n    }\n\n    .dataframe thead th {\n        text-align: right;\n    }\n</style>\n<table border=\"1\" class=\"dataframe\">\n  <thead>\n    <tr style=\"text-align: right;\">\n      <th></th>\n      <th>Neighborhood</th>\n      <th>1st Most Common Venue</th>\n      <th>2nd Most Common Venue</th>\n      <th>3rd Most Common Venue</th>\n      <th>4th Most Common Venue</th>\n      <th>5th Most Common Venue</th>\n      <th>6th Most Common Venue</th>\n      <th>7th Most Common Venue</th>\n      <th>8th Most Common Venue</th>\n      <th>9th Most Common Venue</th>\n      <th>10th Most Common Venue</th>\n    </tr>\n  </thead>\n  <tbody>\n    <tr>\n      <th>0</th>\n      <td>Adelaide, King, Richmond</td>\n      <td>Starbucks</td>\n      <td>JaBistro</td>\n      <td>Michael's on Simcoe</td>\n      <td>Bell Trinity Square</td>\n      <td>Byblos Toronto</td>\n      <td>Bymark</td>\n      <td>Daily Press Juicery</td>\n      <td>Planta Queen</td>\n      <td>Four Seasons Centre for the Performing Arts</td>\n      <td>The National Club</td>\n    </tr>\n    <tr>\n      <th>1</th>\n      <td>Berczy Park</td>\n      <td>Starbucks</td>\n      <td>Crepe It Up!</td>\n      <td>St. Urbain Bagel</td>\n      <td>Brookfield Place</td>\n      <td>Chroma</td>\n      <td>Chotto Matte</td>\n      <td>Stonemill Bread</td>\n      <td>Meridian Hall</td>\n      <td>St. Lawrence Market (South Building)</td>\n      <td>Market Street Catch</td>\n    </tr>\n    <tr>\n      <th>2</th>\n      <td>Brockton, Exhibition Place, Parkdale Village</td>\n      <td>Structube</td>\n      <td>Caffino</td>\n      <td>Joe Rockhead's Climbing Gym</td>\n      <td>Uma Cafe</td>\n      <td>The Abbott</td>\n      <td>Reebok Crossfit Liberty Village</td>\n      <td>Vogue Supper Club</td>\n      <td>Mike's Liberty Grill</td>\n      <td>Quiznos</td>\n      <td>Queen Supermarket</td>\n    </tr>\n    <tr>\n      <th>3</th>\n      <td>Business Reply Mail Processing Centre 969 Eastern</td>\n      <td>Queen Margherita Pizza</td>\n      <td>TTC Russell Division</td>\n      <td>Chino Locos</td>\n      <td>Greenwood Cigar &amp; Variety</td>\n      <td>Jonathan Ashbridge Park</td>\n      <td>Amin Car Repair Garage</td>\n      <td>Ashbridges Bay Skatepark</td>\n      <td>The Ten Spot</td>\n      <td>Rorschach Brewing Co.</td>\n      <td>The Green Wood</td>\n    </tr>\n    <tr>\n      <th>4</th>\n      <td>CN Tower, Bathurst Quay, Island airport, Harbo...</td>\n      <td>Crew Room</td>\n      <td>Air Canada Check-In Counter</td>\n      <td>Want Passport</td>\n      <td>ORNGE - Toronto Air Base</td>\n      <td>Billy Bishop Toronto City Airport (YTZ) (Billy...</td>\n      <td>Hanlan's Point Ferry</td>\n      <td>Billy Bishop Caf\u00e9</td>\n      <td>Porter Lounge</td>\n      <td>Porter Airlines Check-In Counter</td>\n      <td>Market@416</td>\n    </tr>\n  </tbody>\n</table>\n</div>",
                        "text/plain": "                                        Neighborhood   1st Most Common Venue  \\\n0                           Adelaide, King, Richmond               Starbucks   \n1                                        Berczy Park               Starbucks   \n2       Brockton, Exhibition Place, Parkdale Village               Structube   \n3  Business Reply Mail Processing Centre 969 Eastern  Queen Margherita Pizza   \n4  CN Tower, Bathurst Quay, Island airport, Harbo...               Crew Room   \n\n         2nd Most Common Venue        3rd Most Common Venue  \\\n0                     JaBistro          Michael's on Simcoe   \n1                 Crepe It Up!             St. Urbain Bagel   \n2                      Caffino  Joe Rockhead's Climbing Gym   \n3         TTC Russell Division                  Chino Locos   \n4  Air Canada Check-In Counter                Want Passport   \n\n       4th Most Common Venue  \\\n0        Bell Trinity Square   \n1           Brookfield Place   \n2                   Uma Cafe   \n3  Greenwood Cigar & Variety   \n4   ORNGE - Toronto Air Base   \n\n                               5th Most Common Venue  \\\n0                                     Byblos Toronto   \n1                                             Chroma   \n2                                         The Abbott   \n3                            Jonathan Ashbridge Park   \n4  Billy Bishop Toronto City Airport (YTZ) (Billy...   \n\n             6th Most Common Venue     7th Most Common Venue  \\\n0                           Bymark       Daily Press Juicery   \n1                     Chotto Matte           Stonemill Bread   \n2  Reebok Crossfit Liberty Village         Vogue Supper Club   \n3           Amin Car Repair Garage  Ashbridges Bay Skatepark   \n4             Hanlan's Point Ferry         Billy Bishop Caf\u00e9   \n\n  8th Most Common Venue                        9th Most Common Venue  \\\n0          Planta Queen  Four Seasons Centre for the Performing Arts   \n1         Meridian Hall         St. Lawrence Market (South Building)   \n2  Mike's Liberty Grill                                      Quiznos   \n3          The Ten Spot                        Rorschach Brewing Co.   \n4         Porter Lounge             Porter Airlines Check-In Counter   \n\n  10th Most Common Venue  \n0      The National Club  \n1    Market Street Catch  \n2      Queen Supermarket  \n3         The Green Wood  \n4             Market@416  "
                    },
                    "execution_count": 39,
                    "metadata": {},
                    "output_type": "execute_result"
                }
            ],
            "source": "import numpy as np\nnum_top_venues = 10\n\nindicators = ['st', 'nd', 'rd']\n\n# create columns according to number of top venues\ncolumns = ['Neighborhood']\nfor ind in np.arange(num_top_venues):\n    try:\n        columns.append('{}{} Most Common Venue'.format(ind+1, indicators[ind]))\n    except:\n        columns.append('{}th Most Common Venue'.format(ind+1))\n\n# create a new dataframe\nneighborhoods_venues_sorted = pd.DataFrame(columns=columns)\nneighborhoods_venues_sorted['Neighborhood'] = tor_grouped['Neighborhood']\n\nfor ind in np.arange(tor_grouped.shape[0]):\n    neighborhoods_venues_sorted.iloc[ind, 1:] = return_most_common_venues(tor_grouped.iloc[ind, :], num_top_venues)\n\nneighborhoods_venues_sorted.head()"
        },
        {
            "cell_type": "markdown",
            "metadata": {},
            "source": "#### Using the Segmenting and Clustering the analysis can help in Real Estate decision making, Banking and Finance solution / offers rollout along with insurances, Security systems implementation, Planning Emergency and Rescue systems."
        },
        {
            "cell_type": "code",
            "execution_count": null,
            "metadata": {},
            "outputs": [],
            "source": ""
        }
    ],
    "metadata": {
        "kernelspec": {
            "display_name": "Python 3.6",
            "language": "python",
            "name": "python3"
        },
        "language_info": {
            "codemirror_mode": {
                "name": "ipython",
                "version": 3
            },
            "file_extension": ".py",
            "mimetype": "text/x-python",
            "name": "python",
            "nbconvert_exporter": "python",
            "pygments_lexer": "ipython3",
            "version": "3.6.8"
        }
    },
    "nbformat": 4,
    "nbformat_minor": 1
}